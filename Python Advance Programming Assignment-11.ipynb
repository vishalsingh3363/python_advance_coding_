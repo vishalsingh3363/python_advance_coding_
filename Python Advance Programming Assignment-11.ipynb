{
 "cells": [
  {
   "cell_type": "code",
   "execution_count": 1,
   "id": "8f3c0f40",
   "metadata": {},
   "outputs": [
    {
     "name": "stdout",
     "output_type": "stream",
     "text": [
      "filter_primes([7, 9, 3, 9, 10, 11, 27]) ➞ [7, 3, 11]\n",
      "filter_primes([10007, 1009, 1007, 27, 147, 77, 1001, 70]) ➞ [10007, 1009]\n",
      "filter_primes([1009, 10, 10, 10, 3, 33, 9, 4, 1, 61, 63, 69, 1087, 1091, 1093, 1097]) ➞ [1009, 3, 61, 1087, 1091, 1093, 1097]\n"
     ]
    }
   ],
   "source": [
    "#1. Create a function that takes a list and returns a new list containing only prime numbers.\n",
    "#Examples\n",
    "#filter_primes([7, 9, 3, 9, 10, 11, 27]) ➞ [7, 3, 11]\n",
    "#filter_primes([10007, 1009, 1007, 27, 147, 77, 1001, 70]) ➞ [10007, 1009]\n",
    "#filter_primes([1009, 10, 10, 10, 3, 33, 9, 4, 1, 61, 63, 69, 1087, 1091, 1093, 1097]) ➞ [1009, 3, 61, 1087, 1091, 1093, 1097]\n",
    "\n",
    "\n",
    "\n",
    "def filter_primes(in_list):\n",
    "    out_list = []\n",
    "    for ele in in_list:\n",
    "        if ele in [2,3]:\n",
    "            out_list.append(ele)\n",
    "        elif ((ele+1)%6 == 0) or ((ele-1)%6 == 0) and ele != 1:\n",
    "            out_list.append(ele)\n",
    "    temp = out_list.copy()\n",
    "    for ele in temp:\n",
    "        for num in range(2,ele):\n",
    "            if ele%num == 0:\n",
    "                out_list.remove(ele)\n",
    "                break        \n",
    "    print(f'filter_primes({in_list}) ➞ {out_list}')\n",
    "    \n",
    "filter_primes([7, 9, 3, 9, 10, 11, 27])\n",
    "filter_primes([10007, 1009, 1007, 27, 147, 77, 1001, 70])\n",
    "filter_primes([1009, 10, 10, 10, 3, 33, 9, 4, 1, 61, 63, 69, 1087, 1091, 1093, 1097])\n"
   ]
  },
  {
   "cell_type": "code",
   "execution_count": 3,
   "id": "61865c42",
   "metadata": {},
   "outputs": [
    {
     "name": "stdout",
     "output_type": "stream",
     "text": [
      "pop([0, 0, 0, 0, 4, 0, 0, 0, 0]) ➞ [0, 1, 2, 3, 4, 3, 2, 1, 0]\n",
      "pop([0, 0, 0, 3, 0, 0, 0]) ➞ [0, 1, 2, 3, 2, 1, 0]\n",
      "pop([0, 0, 2, 0, 0]) ➞ [0, 1, 2, 1, 0]\n",
      "pop([0]) ➞ [0]\n"
     ]
    }
   ],
   "source": [
    "#2. Once a water balloon pops, is soaks the area around it. The ground gets\n",
    "#drier the further away you travel from the balloon.\n",
    "#The effect of a water balloon popping can be modeled using a list. Create a\n",
    "#function that takes a list which takes the pre-pop state and returns the state\n",
    "#after the balloon is popped. The pre-pop state will contain at most a single\n",
    "#balloon, whose size is represented by the only non-zero element.\n",
    "#Examples\n",
    "#pop([0, 0, 0, 0, 4, 0, 0, 0, 0]) ➞ [0, 1, 2, 3, 4, 3, 2, 1, 0]\n",
    "#pop([0, 0, 0, 3, 0, 0, 0]) ➞ [0, 1, 2, 3, 2, 1, 0]\n",
    "#pop([0, 0, 2, 0, 0]) ➞ [0, 1, 2, 1, 0]\n",
    "#pop([0]) ➞ [0]\n",
    "\n",
    "\n",
    "def pop(in_list):\n",
    "    pop_number = sorted(in_list,reverse=True)[0]\n",
    "    output = []\n",
    "    if pop_number == 0:\n",
    "        output.append(0)\n",
    "    else:\n",
    "        output.extend([x for x in range((len(in_list)-1)//2)])\n",
    "        output.append(pop_number)\n",
    "        output.extend([((len(in_list)-2)//2)-x for x in range((len(in_list)-1)//2)])\n",
    "    print(f'pop({in_list}) ➞ {output}')\n",
    "    \n",
    "pop([0, 0, 0, 0, 4, 0, 0, 0, 0])\n",
    "pop([0, 0, 0, 3, 0, 0, 0])\n",
    "pop([0, 0, 2, 0, 0])\n",
    "pop([0])"
   ]
  },
  {
   "cell_type": "code",
   "execution_count": 2,
   "id": "fe9c59f5",
   "metadata": {},
   "outputs": [
    {
     "name": "stdout",
     "output_type": "stream",
     "text": [
      "loves_me(3) ➞ Loves me, Loves me not, LOVES ME\n",
      "loves_me(6) ➞ Loves me, Loves me not, Loves me, Loves me not, Loves me, LOVES ME NOT\n",
      "loves_me(1) ➞ LOVES ME\n"
     ]
    }
   ],
   "source": [
    "#3. &quot;Loves me, loves me not&quot; is a traditional game in which a person plucks off\n",
    "#all the petals of a flower one by one, saying the phrase &quot;Loves me&quot; and\n",
    "#&quot;Loves me not&quot; when determining whether the one that they love, loves them\n",
    "#back.\n",
    "#Given a number of petals, return a string which repeats the phrases &quot;Loves\n",
    "#me&quot; and &quot;Loves me not&quot; for every alternating petal, and return the last phrase\n",
    "#in all caps. Remember to put a comma and space between phrases.\n",
    "#Examples\n",
    "#loves_me(3) ➞ &quot;Loves me, Loves me not, LOVES ME&quot;\n",
    "#loves_me(6) ➞ &quot;Loves me, Loves me not, Loves me, Loves me not, Loves\n",
    "#me, LOVES ME NOT&quot;\n",
    "\n",
    "#loves_me(1) ➞ &quot;LOVES ME&quot;\n",
    "\n",
    "\n",
    "def loves_me(in_num):\n",
    "    out_string = []\n",
    "    for ele in range(in_num):\n",
    "        if ele%2 ==0:\n",
    "            out_string.append('Loves me')\n",
    "        else:\n",
    "            out_string.append('Loves me not')\n",
    "    out_string[-1] = out_string[-1].upper()\n",
    "    print(f'loves_me({in_num}) ➞ {\", \".join(out_string)}')\n",
    "    \n",
    "loves_me(3)\n",
    "loves_me(6)\n",
    "loves_me(1)"
   ]
  },
  {
   "cell_type": "code",
   "execution_count": 4,
   "id": "b021014f",
   "metadata": {},
   "outputs": [
    {
     "name": "stdout",
     "output_type": "stream",
     "text": [
      "sort_by_letter(['932c', '832u32', '2344b']) ➞ ['2344b', '932c', '832u32']\n",
      "sort_by_letter(['99a', '78b', 'c2345', '11d']) ➞ ['99a', '78b', 'c2345', '11d']\n",
      "sort_by_letter(['572z', '5y5', '304q2']) ➞ ['304q2', '5y5', '572z']\n",
      "sort_by_letter([]) ➞ []\n"
     ]
    }
   ],
   "source": [
    "#4. Write a function that sorts each string in a list by the letter in alphabetic ascending order (a-z).\n",
    "#Examples\n",
    "#sort_by_letter([&quot;932c&quot;, &quot;832u32&quot;, &quot;2344b&quot;])\n",
    "#➞ [&quot;2344b&quot;, &quot;932c&quot;, &quot;832u32&quot;]\n",
    "#sort_by_letter([&quot;99a&quot;, &quot;78b&quot;, &quot;c2345&quot;, &quot;11d&quot;])\n",
    "#➞ [&quot;99a&quot;, &quot;78b&quot;, &quot;c2345&quot;, &quot;11d&quot;]\n",
    "#sort_by_letter([&quot;572z&quot;, &quot;5y5&quot;, &quot;304q2&quot;])\n",
    "#➞ [&quot;304q2&quot;, &quot;5y5&quot;, &quot;572z&quot;]\n",
    "#sort_by_letter([])\n",
    "#➞ []\n",
    "\n",
    "\n",
    "def sort_by_letter(in_list):\n",
    "    temp_list = []\n",
    "    output = []\n",
    "    for ele in in_list:\n",
    "        for char in ele:\n",
    "            if char.isalpha():\n",
    "                temp_list.append(char)\n",
    "    temp_list.sort()\n",
    "    for char in temp_list:\n",
    "        for ele in in_list:\n",
    "            if char in ele:\n",
    "                output.append(ele)\n",
    "    \n",
    "    print(f'sort_by_letter({in_list}) ➞ {output}')\n",
    "                \n",
    "sort_by_letter([\"932c\", \"832u32\", \"2344b\"])\n",
    "sort_by_letter([\"99a\", \"78b\", \"c2345\", \"11d\"])\n",
    "sort_by_letter([\"572z\", \"5y5\", \"304q2\"])\n",
    "sort_by_letter([])"
   ]
  },
  {
   "cell_type": "code",
   "execution_count": 5,
   "id": "f6aa294c",
   "metadata": {},
   "outputs": [
    {
     "name": "stdout",
     "output_type": "stream",
     "text": [
      "cup_swapping(['AB', 'CA', 'AB']) ➞ C\n",
      "cup_swapping(['AB', 'CA', 'AB']) ➞ B\n",
      "cup_swapping(['AC', 'BC', 'AB']) ➞ A\n"
     ]
    }
   ],
   "source": [
    "#5. There are three cups on a table, at positions A, B, and C. At the start, there is a ball hidden under the cup at position B.\n",
    "\n",
    "#However, I perform several swaps on the cups, which is notated as two\n",
    "#letters. For example, if I swap the cups at positions A and B, I could notate this as AB or BA.\n",
    "#Create a function that returns the letter position that the ball is at, once I finish swapping the cups. The swaps will be given to you as a list.\n",
    "\n",
    "#Example\n",
    "#cup_swapping([&quot;AB&quot;, &quot;CA&quot;, &quot;AB&quot;]) ➞ &quot;C&quot;\n",
    "# Ball begins at position B.\n",
    "# Cups A and B swap, so the ball is at position A.\n",
    "# Cups C and A swap, so the ball is at position C.\n",
    "# Cups A and B swap, but the ball is at position C, so it doesn&#39;t move.\n",
    "\n",
    "def cup_swapping(swap_list,intitial_ball_pos):\n",
    "    ball_position = intitial_ball_pos\n",
    "    for ele in swap_list:\n",
    "        if ball_position in ele:\n",
    "            ball_position = ele.replace(ball_position,'')\n",
    "    print(f'cup_swapping({swap_list}) ➞ {ball_position}')\n",
    "            \n",
    "cup_swapping([\"AB\", \"CA\", \"AB\"],'B')\n",
    "cup_swapping([\"AB\", \"CA\", \"AB\"],'C')\n",
    "cup_swapping([\"AC\", \"BC\", \"AB\"],'A')"
   ]
  },
  {
   "cell_type": "code",
   "execution_count": null,
   "id": "96027ff9",
   "metadata": {},
   "outputs": [],
   "source": []
  },
  {
   "cell_type": "code",
   "execution_count": null,
   "id": "0e836036",
   "metadata": {},
   "outputs": [],
   "source": []
  },
  {
   "cell_type": "code",
   "execution_count": null,
   "id": "4029cf2d",
   "metadata": {},
   "outputs": [],
   "source": []
  }
 ],
 "metadata": {
  "kernelspec": {
   "display_name": "Python 3 (ipykernel)",
   "language": "python",
   "name": "python3"
  },
  "language_info": {
   "codemirror_mode": {
    "name": "ipython",
    "version": 3
   },
   "file_extension": ".py",
   "mimetype": "text/x-python",
   "name": "python",
   "nbconvert_exporter": "python",
   "pygments_lexer": "ipython3",
   "version": "3.9.12"
  }
 },
 "nbformat": 4,
 "nbformat_minor": 5
}
